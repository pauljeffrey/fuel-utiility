{
 "cells": [
  {
   "cell_type": "code",
   "execution_count": 260,
   "metadata": {},
   "outputs": [],
   "source": [
    "import pandas as pd\n",
    "import numpy as np\n",
    "import matplotlib.pyplot as plt"
   ]
  },
  {
   "cell_type": "code",
   "execution_count": 261,
   "metadata": {
    "scrolled": true
   },
   "outputs": [
    {
     "data": {
      "text/html": [
       "<div>\n",
       "<style scoped>\n",
       "    .dataframe tbody tr th:only-of-type {\n",
       "        vertical-align: middle;\n",
       "    }\n",
       "\n",
       "    .dataframe tbody tr th {\n",
       "        vertical-align: top;\n",
       "    }\n",
       "\n",
       "    .dataframe thead th {\n",
       "        text-align: right;\n",
       "    }\n",
       "</style>\n",
       "<table border=\"1\" class=\"dataframe\">\n",
       "  <thead>\n",
       "    <tr style=\"text-align: right;\">\n",
       "      <th></th>\n",
       "      <th>Unnamed: 0</th>\n",
       "      <th>Unnamed: 0.1</th>\n",
       "      <th>Unnamed: 0.1.1</th>\n",
       "      <th>Unnamed: 0.1.1.1</th>\n",
       "      <th>Unnamed: 0.1.1.1.1</th>\n",
       "      <th>record_id</th>\n",
       "      <th>utility_id_ferc1</th>\n",
       "      <th>report_year</th>\n",
       "      <th>plant_name_ferc1</th>\n",
       "      <th>fuel_type_code_pudl</th>\n",
       "      <th>fuel_unit</th>\n",
       "      <th>fuel_qty_burned</th>\n",
       "      <th>fuel_mmbtu_per_unit</th>\n",
       "      <th>fuel_cost_per_unit_burned</th>\n",
       "      <th>fuel_cost_per_unit_delivered</th>\n",
       "      <th>fuel_cost_per_mmbtu</th>\n",
       "      <th>total_fuel_cost_per_unit</th>\n",
       "      <th>total_cost</th>\n",
       "      <th>mmbtu_produced</th>\n",
       "      <th>total_fuel_cost_burned</th>\n",
       "    </tr>\n",
       "  </thead>\n",
       "  <tbody>\n",
       "    <tr>\n",
       "      <th>0</th>\n",
       "      <td>0</td>\n",
       "      <td>0</td>\n",
       "      <td>0</td>\n",
       "      <td>0</td>\n",
       "      <td>0</td>\n",
       "      <td>f1_fuel_1994_12_1_0_7</td>\n",
       "      <td>1</td>\n",
       "      <td>1994</td>\n",
       "      <td>rockport</td>\n",
       "      <td>coal</td>\n",
       "      <td>ton</td>\n",
       "      <td>5377489.0</td>\n",
       "      <td>16.590000</td>\n",
       "      <td>18.590</td>\n",
       "      <td>18.530</td>\n",
       "      <td>1.121</td>\n",
       "      <td>37.120</td>\n",
       "      <td>1.996124e+08</td>\n",
       "      <td>8.921254e+07</td>\n",
       "      <td>9.996752e+07</td>\n",
       "    </tr>\n",
       "    <tr>\n",
       "      <th>1</th>\n",
       "      <td>1</td>\n",
       "      <td>1</td>\n",
       "      <td>1</td>\n",
       "      <td>1</td>\n",
       "      <td>1</td>\n",
       "      <td>f1_fuel_1994_12_1_0_10</td>\n",
       "      <td>1</td>\n",
       "      <td>1994</td>\n",
       "      <td>rockport total plant</td>\n",
       "      <td>coal</td>\n",
       "      <td>ton</td>\n",
       "      <td>10486945.0</td>\n",
       "      <td>16.592000</td>\n",
       "      <td>18.580</td>\n",
       "      <td>18.530</td>\n",
       "      <td>1.120</td>\n",
       "      <td>37.110</td>\n",
       "      <td>3.891705e+08</td>\n",
       "      <td>1.739994e+08</td>\n",
       "      <td>1.948474e+08</td>\n",
       "    </tr>\n",
       "    <tr>\n",
       "      <th>2</th>\n",
       "      <td>2</td>\n",
       "      <td>2</td>\n",
       "      <td>2</td>\n",
       "      <td>2</td>\n",
       "      <td>2</td>\n",
       "      <td>f1_fuel_1994_12_2_0_1</td>\n",
       "      <td>2</td>\n",
       "      <td>1994</td>\n",
       "      <td>gorgas</td>\n",
       "      <td>coal</td>\n",
       "      <td>ton</td>\n",
       "      <td>2978683.0</td>\n",
       "      <td>24.130000</td>\n",
       "      <td>39.720</td>\n",
       "      <td>38.120</td>\n",
       "      <td>1.650</td>\n",
       "      <td>77.840</td>\n",
       "      <td>2.318607e+08</td>\n",
       "      <td>7.187562e+07</td>\n",
       "      <td>1.183133e+08</td>\n",
       "    </tr>\n",
       "    <tr>\n",
       "      <th>3</th>\n",
       "      <td>3</td>\n",
       "      <td>3</td>\n",
       "      <td>3</td>\n",
       "      <td>3</td>\n",
       "      <td>3</td>\n",
       "      <td>f1_fuel_1994_12_2_0_7</td>\n",
       "      <td>2</td>\n",
       "      <td>1994</td>\n",
       "      <td>barry</td>\n",
       "      <td>coal</td>\n",
       "      <td>ton</td>\n",
       "      <td>3739484.0</td>\n",
       "      <td>23.950000</td>\n",
       "      <td>47.210</td>\n",
       "      <td>45.990</td>\n",
       "      <td>1.970</td>\n",
       "      <td>93.200</td>\n",
       "      <td>3.485199e+08</td>\n",
       "      <td>8.956064e+07</td>\n",
       "      <td>1.765410e+08</td>\n",
       "    </tr>\n",
       "    <tr>\n",
       "      <th>4</th>\n",
       "      <td>4</td>\n",
       "      <td>4</td>\n",
       "      <td>4</td>\n",
       "      <td>4</td>\n",
       "      <td>4</td>\n",
       "      <td>f1_fuel_1994_12_2_0_10</td>\n",
       "      <td>2</td>\n",
       "      <td>1994</td>\n",
       "      <td>chickasaw</td>\n",
       "      <td>gas</td>\n",
       "      <td>mcf</td>\n",
       "      <td>40533.0</td>\n",
       "      <td>1.000000</td>\n",
       "      <td>2.770</td>\n",
       "      <td>2.770</td>\n",
       "      <td>2.570</td>\n",
       "      <td>5.540</td>\n",
       "      <td>2.245528e+05</td>\n",
       "      <td>4.053300e+04</td>\n",
       "      <td>1.122764e+05</td>\n",
       "    </tr>\n",
       "    <tr>\n",
       "      <th>5</th>\n",
       "      <td>5</td>\n",
       "      <td>5</td>\n",
       "      <td>5</td>\n",
       "      <td>5</td>\n",
       "      <td>5</td>\n",
       "      <td>f1_fuel_1994_12_2_0_13</td>\n",
       "      <td>2</td>\n",
       "      <td>1994</td>\n",
       "      <td>e. c. gaston-unit 5</td>\n",
       "      <td>coal</td>\n",
       "      <td>ton</td>\n",
       "      <td>2124933.0</td>\n",
       "      <td>23.922000</td>\n",
       "      <td>44.240</td>\n",
       "      <td>43.250</td>\n",
       "      <td>1.850</td>\n",
       "      <td>87.490</td>\n",
       "      <td>1.859104e+08</td>\n",
       "      <td>5.083265e+07</td>\n",
       "      <td>9.400704e+07</td>\n",
       "    </tr>\n",
       "    <tr>\n",
       "      <th>6</th>\n",
       "      <td>6</td>\n",
       "      <td>6</td>\n",
       "      <td>6</td>\n",
       "      <td>6</td>\n",
       "      <td>6</td>\n",
       "      <td>f1_fuel_1994_12_2_1_1</td>\n",
       "      <td>2</td>\n",
       "      <td>1994</td>\n",
       "      <td>joseph m. farley</td>\n",
       "      <td>nuclear</td>\n",
       "      <td>kgU</td>\n",
       "      <td>2260.0</td>\n",
       "      <td>0.064094</td>\n",
       "      <td>28.770</td>\n",
       "      <td>0.000</td>\n",
       "      <td>0.450</td>\n",
       "      <td>28.770</td>\n",
       "      <td>6.502020e+04</td>\n",
       "      <td>1.448524e+02</td>\n",
       "      <td>6.502020e+04</td>\n",
       "    </tr>\n",
       "    <tr>\n",
       "      <th>7</th>\n",
       "      <td>7</td>\n",
       "      <td>7</td>\n",
       "      <td>7</td>\n",
       "      <td>7</td>\n",
       "      <td>7</td>\n",
       "      <td>f1_fuel_1994_12_2_1_10</td>\n",
       "      <td>2</td>\n",
       "      <td>1994</td>\n",
       "      <td>resondent's portion</td>\n",
       "      <td>coal</td>\n",
       "      <td>ton</td>\n",
       "      <td>5372133.0</td>\n",
       "      <td>24.840000</td>\n",
       "      <td>58.540</td>\n",
       "      <td>55.130</td>\n",
       "      <td>2.360</td>\n",
       "      <td>113.670</td>\n",
       "      <td>6.106504e+08</td>\n",
       "      <td>1.334438e+08</td>\n",
       "      <td>3.144847e+08</td>\n",
       "    </tr>\n",
       "    <tr>\n",
       "      <th>8</th>\n",
       "      <td>8</td>\n",
       "      <td>8</td>\n",
       "      <td>8</td>\n",
       "      <td>8</td>\n",
       "      <td>8</td>\n",
       "      <td>f1_fuel_1994_12_2_2_10</td>\n",
       "      <td>2</td>\n",
       "      <td>1994</td>\n",
       "      <td>respondent's portion</td>\n",
       "      <td>coal</td>\n",
       "      <td>ton</td>\n",
       "      <td>817520.0</td>\n",
       "      <td>24.290000</td>\n",
       "      <td>33.970</td>\n",
       "      <td>34.650</td>\n",
       "      <td>1.400</td>\n",
       "      <td>68.620</td>\n",
       "      <td>5.609822e+07</td>\n",
       "      <td>1.985756e+07</td>\n",
       "      <td>2.777115e+07</td>\n",
       "    </tr>\n",
       "    <tr>\n",
       "      <th>9</th>\n",
       "      <td>9</td>\n",
       "      <td>9</td>\n",
       "      <td>9</td>\n",
       "      <td>9</td>\n",
       "      <td>9</td>\n",
       "      <td>f1_fuel_1994_12_4_0_1</td>\n",
       "      <td>4</td>\n",
       "      <td>1994</td>\n",
       "      <td>units 1-3</td>\n",
       "      <td>coal</td>\n",
       "      <td>ton</td>\n",
       "      <td>1471233.0</td>\n",
       "      <td>22.484000</td>\n",
       "      <td>28.730</td>\n",
       "      <td>28.110</td>\n",
       "      <td>1.278</td>\n",
       "      <td>56.840</td>\n",
       "      <td>8.362488e+07</td>\n",
       "      <td>3.307920e+07</td>\n",
       "      <td>4.226852e+07</td>\n",
       "    </tr>\n",
       "    <tr>\n",
       "      <th>10</th>\n",
       "      <td>10</td>\n",
       "      <td>10</td>\n",
       "      <td>10</td>\n",
       "      <td>10</td>\n",
       "      <td>10</td>\n",
       "      <td>f1_fuel_1994_12_4_0_2</td>\n",
       "      <td>4</td>\n",
       "      <td>1994</td>\n",
       "      <td>units 1-3</td>\n",
       "      <td>gas</td>\n",
       "      <td>mcf</td>\n",
       "      <td>262720.0</td>\n",
       "      <td>1.026000</td>\n",
       "      <td>1.940</td>\n",
       "      <td>1.940</td>\n",
       "      <td>13.900</td>\n",
       "      <td>3.880</td>\n",
       "      <td>1.019354e+06</td>\n",
       "      <td>2.695507e+05</td>\n",
       "      <td>5.096768e+05</td>\n",
       "    </tr>\n",
       "    <tr>\n",
       "      <th>11</th>\n",
       "      <td>11</td>\n",
       "      <td>11</td>\n",
       "      <td>11</td>\n",
       "      <td>11</td>\n",
       "      <td>11</td>\n",
       "      <td>f1_fuel_1994_12_4_0_4</td>\n",
       "      <td>4</td>\n",
       "      <td>1994</td>\n",
       "      <td>unit 4</td>\n",
       "      <td>coal</td>\n",
       "      <td>ton</td>\n",
       "      <td>476779.0</td>\n",
       "      <td>22.428000</td>\n",
       "      <td>28.710</td>\n",
       "      <td>28.110</td>\n",
       "      <td>1.280</td>\n",
       "      <td>56.820</td>\n",
       "      <td>2.709058e+07</td>\n",
       "      <td>1.069320e+07</td>\n",
       "      <td>1.368833e+07</td>\n",
       "    </tr>\n",
       "    <tr>\n",
       "      <th>12</th>\n",
       "      <td>12</td>\n",
       "      <td>12</td>\n",
       "      <td>12</td>\n",
       "      <td>12</td>\n",
       "      <td>12</td>\n",
       "      <td>f1_fuel_1994_12_4_0_5</td>\n",
       "      <td>4</td>\n",
       "      <td>1994</td>\n",
       "      <td>unit 4</td>\n",
       "      <td>gas</td>\n",
       "      <td>mcf</td>\n",
       "      <td>6673.0</td>\n",
       "      <td>1.026000</td>\n",
       "      <td>1.940</td>\n",
       "      <td>1.940</td>\n",
       "      <td>1.900</td>\n",
       "      <td>3.880</td>\n",
       "      <td>2.589124e+04</td>\n",
       "      <td>6.846498e+03</td>\n",
       "      <td>1.294562e+04</td>\n",
       "    </tr>\n",
       "    <tr>\n",
       "      <th>13</th>\n",
       "      <td>13</td>\n",
       "      <td>13</td>\n",
       "      <td>13</td>\n",
       "      <td>13</td>\n",
       "      <td>13</td>\n",
       "      <td>f1_fuel_1994_12_6_0_1</td>\n",
       "      <td>6</td>\n",
       "      <td>1994</td>\n",
       "      <td>clinch river</td>\n",
       "      <td>coal</td>\n",
       "      <td>ton</td>\n",
       "      <td>1655558.0</td>\n",
       "      <td>25.038000</td>\n",
       "      <td>30.248</td>\n",
       "      <td>29.019</td>\n",
       "      <td>1.208</td>\n",
       "      <td>59.267</td>\n",
       "      <td>9.811996e+07</td>\n",
       "      <td>4.145186e+07</td>\n",
       "      <td>5.007732e+07</td>\n",
       "    </tr>\n",
       "    <tr>\n",
       "      <th>14</th>\n",
       "      <td>14</td>\n",
       "      <td>14</td>\n",
       "      <td>14</td>\n",
       "      <td>14</td>\n",
       "      <td>14</td>\n",
       "      <td>f1_fuel_1994_12_6_0_2</td>\n",
       "      <td>6</td>\n",
       "      <td>1994</td>\n",
       "      <td>clinch river</td>\n",
       "      <td>oil</td>\n",
       "      <td>bbl</td>\n",
       "      <td>6510.0</td>\n",
       "      <td>5.875338</td>\n",
       "      <td>32.130</td>\n",
       "      <td>23.444</td>\n",
       "      <td>5.469</td>\n",
       "      <td>55.574</td>\n",
       "      <td>3.617867e+05</td>\n",
       "      <td>3.824845e+04</td>\n",
       "      <td>2.091663e+05</td>\n",
       "    </tr>\n",
       "  </tbody>\n",
       "</table>\n",
       "</div>"
      ],
      "text/plain": [
       "    Unnamed: 0  Unnamed: 0.1  Unnamed: 0.1.1  Unnamed: 0.1.1.1  \\\n",
       "0            0             0               0                 0   \n",
       "1            1             1               1                 1   \n",
       "2            2             2               2                 2   \n",
       "3            3             3               3                 3   \n",
       "4            4             4               4                 4   \n",
       "5            5             5               5                 5   \n",
       "6            6             6               6                 6   \n",
       "7            7             7               7                 7   \n",
       "8            8             8               8                 8   \n",
       "9            9             9               9                 9   \n",
       "10          10            10              10                10   \n",
       "11          11            11              11                11   \n",
       "12          12            12              12                12   \n",
       "13          13            13              13                13   \n",
       "14          14            14              14                14   \n",
       "\n",
       "    Unnamed: 0.1.1.1.1               record_id  utility_id_ferc1  report_year  \\\n",
       "0                    0   f1_fuel_1994_12_1_0_7                 1         1994   \n",
       "1                    1  f1_fuel_1994_12_1_0_10                 1         1994   \n",
       "2                    2   f1_fuel_1994_12_2_0_1                 2         1994   \n",
       "3                    3   f1_fuel_1994_12_2_0_7                 2         1994   \n",
       "4                    4  f1_fuel_1994_12_2_0_10                 2         1994   \n",
       "5                    5  f1_fuel_1994_12_2_0_13                 2         1994   \n",
       "6                    6   f1_fuel_1994_12_2_1_1                 2         1994   \n",
       "7                    7  f1_fuel_1994_12_2_1_10                 2         1994   \n",
       "8                    8  f1_fuel_1994_12_2_2_10                 2         1994   \n",
       "9                    9   f1_fuel_1994_12_4_0_1                 4         1994   \n",
       "10                  10   f1_fuel_1994_12_4_0_2                 4         1994   \n",
       "11                  11   f1_fuel_1994_12_4_0_4                 4         1994   \n",
       "12                  12   f1_fuel_1994_12_4_0_5                 4         1994   \n",
       "13                  13   f1_fuel_1994_12_6_0_1                 6         1994   \n",
       "14                  14   f1_fuel_1994_12_6_0_2                 6         1994   \n",
       "\n",
       "        plant_name_ferc1 fuel_type_code_pudl fuel_unit  fuel_qty_burned  \\\n",
       "0               rockport                coal       ton        5377489.0   \n",
       "1   rockport total plant                coal       ton       10486945.0   \n",
       "2                 gorgas                coal       ton        2978683.0   \n",
       "3                  barry                coal       ton        3739484.0   \n",
       "4              chickasaw                 gas       mcf          40533.0   \n",
       "5    e. c. gaston-unit 5                coal       ton        2124933.0   \n",
       "6       joseph m. farley             nuclear       kgU           2260.0   \n",
       "7    resondent's portion                coal       ton        5372133.0   \n",
       "8   respondent's portion                coal       ton         817520.0   \n",
       "9              units 1-3                coal       ton        1471233.0   \n",
       "10             units 1-3                 gas       mcf         262720.0   \n",
       "11                unit 4                coal       ton         476779.0   \n",
       "12                unit 4                 gas       mcf           6673.0   \n",
       "13          clinch river                coal       ton        1655558.0   \n",
       "14          clinch river                 oil       bbl           6510.0   \n",
       "\n",
       "    fuel_mmbtu_per_unit  fuel_cost_per_unit_burned  \\\n",
       "0             16.590000                     18.590   \n",
       "1             16.592000                     18.580   \n",
       "2             24.130000                     39.720   \n",
       "3             23.950000                     47.210   \n",
       "4              1.000000                      2.770   \n",
       "5             23.922000                     44.240   \n",
       "6              0.064094                     28.770   \n",
       "7             24.840000                     58.540   \n",
       "8             24.290000                     33.970   \n",
       "9             22.484000                     28.730   \n",
       "10             1.026000                      1.940   \n",
       "11            22.428000                     28.710   \n",
       "12             1.026000                      1.940   \n",
       "13            25.038000                     30.248   \n",
       "14             5.875338                     32.130   \n",
       "\n",
       "    fuel_cost_per_unit_delivered  fuel_cost_per_mmbtu  \\\n",
       "0                         18.530                1.121   \n",
       "1                         18.530                1.120   \n",
       "2                         38.120                1.650   \n",
       "3                         45.990                1.970   \n",
       "4                          2.770                2.570   \n",
       "5                         43.250                1.850   \n",
       "6                          0.000                0.450   \n",
       "7                         55.130                2.360   \n",
       "8                         34.650                1.400   \n",
       "9                         28.110                1.278   \n",
       "10                         1.940               13.900   \n",
       "11                        28.110                1.280   \n",
       "12                         1.940                1.900   \n",
       "13                        29.019                1.208   \n",
       "14                        23.444                5.469   \n",
       "\n",
       "    total_fuel_cost_per_unit    total_cost  mmbtu_produced  \\\n",
       "0                     37.120  1.996124e+08    8.921254e+07   \n",
       "1                     37.110  3.891705e+08    1.739994e+08   \n",
       "2                     77.840  2.318607e+08    7.187562e+07   \n",
       "3                     93.200  3.485199e+08    8.956064e+07   \n",
       "4                      5.540  2.245528e+05    4.053300e+04   \n",
       "5                     87.490  1.859104e+08    5.083265e+07   \n",
       "6                     28.770  6.502020e+04    1.448524e+02   \n",
       "7                    113.670  6.106504e+08    1.334438e+08   \n",
       "8                     68.620  5.609822e+07    1.985756e+07   \n",
       "9                     56.840  8.362488e+07    3.307920e+07   \n",
       "10                     3.880  1.019354e+06    2.695507e+05   \n",
       "11                    56.820  2.709058e+07    1.069320e+07   \n",
       "12                     3.880  2.589124e+04    6.846498e+03   \n",
       "13                    59.267  9.811996e+07    4.145186e+07   \n",
       "14                    55.574  3.617867e+05    3.824845e+04   \n",
       "\n",
       "    total_fuel_cost_burned  \n",
       "0             9.996752e+07  \n",
       "1             1.948474e+08  \n",
       "2             1.183133e+08  \n",
       "3             1.765410e+08  \n",
       "4             1.122764e+05  \n",
       "5             9.400704e+07  \n",
       "6             6.502020e+04  \n",
       "7             3.144847e+08  \n",
       "8             2.777115e+07  \n",
       "9             4.226852e+07  \n",
       "10            5.096768e+05  \n",
       "11            1.368833e+07  \n",
       "12            1.294562e+04  \n",
       "13            5.007732e+07  \n",
       "14            2.091663e+05  "
      ]
     },
     "execution_count": 261,
     "metadata": {},
     "output_type": "execute_result"
    }
   ],
   "source": [
    "#utility_data = pd.read_csv('https://raw.githubusercontent.com/WalePhenomenon/climate_change/master/fuel_ferc1.csv',error_bad_lines=False)\n",
    "utility_data = pd.read_csv('Fuel_utility.csv')\n",
    "utility_data.head(15)"
   ]
  },
  {
   "cell_type": "code",
   "execution_count": 262,
   "metadata": {},
   "outputs": [],
   "source": [
    "utility_data.to_csv('Fuel_utility.csv')"
   ]
  },
  {
   "cell_type": "code",
   "execution_count": 263,
   "metadata": {},
   "outputs": [],
   "source": [
    "#'Record_id' : record id\n",
    "#'Utility_id_ferc1': Utility id assigned by the FERC\n",
    "#'Report_year': year of report\n",
    "#'Plant_name_ferc1': the name of the plant\n",
    "#'Fuel_type_code_pudl': the type of fuel\n",
    "#'Fuel_unit': the unit of fuel\n",
    "#'Fuel_qty_burned': the quantity of fuel burned\n",
    "#'Fuel_mmbtu_per_unit': the measure of energy per unit\n",
    "#'fuel_cost_per_unit_burned': the fuel cost per unit burned\n",
    "#'Fuel_cost_per_unit_delivered': the cost of fuel delivered per unit\n",
    "#'fuel_cost_per_mmbtu': the cost of fuel per mmbtu"
   ]
  },
  {
   "cell_type": "markdown",
   "metadata": {},
   "source": [
    "## Inputing null Values\n",
    "First, lets check the dataset for missing values."
   ]
  },
  {
   "cell_type": "code",
   "execution_count": 264,
   "metadata": {},
   "outputs": [
    {
     "data": {
      "text/plain": [
       "Unnamed: 0                       0\n",
       "Unnamed: 0.1                     0\n",
       "Unnamed: 0.1.1                   0\n",
       "Unnamed: 0.1.1.1                 0\n",
       "Unnamed: 0.1.1.1.1               0\n",
       "record_id                        0\n",
       "utility_id_ferc1                 0\n",
       "report_year                      0\n",
       "plant_name_ferc1                 0\n",
       "fuel_type_code_pudl              0\n",
       "fuel_unit                       36\n",
       "fuel_qty_burned                  0\n",
       "fuel_mmbtu_per_unit              0\n",
       "fuel_cost_per_unit_burned        0\n",
       "fuel_cost_per_unit_delivered     0\n",
       "fuel_cost_per_mmbtu              0\n",
       "total_fuel_cost_per_unit         0\n",
       "total_cost                       0\n",
       "mmbtu_produced                   0\n",
       "total_fuel_cost_burned           0\n",
       "dtype: int64"
      ]
     },
     "execution_count": 264,
     "metadata": {},
     "output_type": "execute_result"
    }
   ],
   "source": [
    "utility_data.isna().sum()"
   ]
  },
  {
   "cell_type": "markdown",
   "metadata": {},
   "source": [
    "The Fuel unit is the only column with 180 missing values. I can also see that the value of this column depends strictly on the fuel_type_code. I shall attempt filling up the missing values with the appropriate values given their respective fuel_types"
   ]
  },
  {
   "cell_type": "markdown",
   "metadata": {},
   "source": [
    "I noticed in the data that some power_plants had 0 value for the fuel_cost_per_unit_burned and fuel_cost_per_unit_delivered. I shall attempt to calculate that from the fuel_mmbtu_per_unit.\n",
    "The fuel_mmbtu_per_unit is gotten by dividing the fuel_cost_per_unit_burned by the mmbtu_per_unit."
   ]
  },
  {
   "cell_type": "code",
   "execution_count": 265,
   "metadata": {},
   "outputs": [],
   "source": [
    "# calculate fuel_cost_per_unit_burned.\n",
    "def cal_cost(row):\n",
    "    if (row['fuel_cost_per_unit_burned'] == 0.0) and (row['fuel_cost_per_mmbtu'] != 0.0):\n",
    "        row['fuel_cost_per_unit_burned'] = row['fuel_cost_per_mmbtu'] * row['fuel_mmbtu_per_unit']\n",
    "    return row\n",
    "utility_data = utility_data.apply(cal_cost, axis=1)"
   ]
  },
  {
   "cell_type": "markdown",
   "metadata": {},
   "source": [
    "Let's generate other features : \n",
    "-  total_fuel_cost_per_unit : unit_burned + unit_delivered\n",
    "-  total_cost :  total_fuel_cost_per_unit * fuel_qty_burned\n",
    "-  mmbtu_produced:  Total energy produced\n",
    "-  total_fuel_cost_burned: fuel_cost_per_unit_burned * fuel_qty_burned"
   ]
  },
  {
   "cell_type": "code",
   "execution_count": 266,
   "metadata": {},
   "outputs": [],
   "source": [
    "#Calculate the variables listed above\n",
    "utility_data['total_fuel_cost_per_unit'] = utility_data['fuel_cost_per_unit_burned'] + utility_data['fuel_cost_per_unit_delivered']\n",
    "utility_data['total_cost'] = utility_data['total_fuel_cost_per_unit']*utility_data['fuel_qty_burned']\n",
    "utility_data['mmbtu_produced'] = utility_data['fuel_mmbtu_per_unit'] * utility_data['fuel_qty_burned']\n",
    "utility_data['total_fuel_cost_burned'] = utility_data['fuel_cost_per_unit_burned']* utility_data['fuel_qty_burned']"
   ]
  },
  {
   "cell_type": "code",
   "execution_count": 267,
   "metadata": {},
   "outputs": [],
   "source": [
    "#map fuel_sources to their units\n",
    "fuel_sources = {'coal': 'ton','gas': 'mcf' ,'nuclear': 'kgU', 'oil': 'bbl' , 'waste': 'ton' }\n",
    "\n",
    "#define function to use to impute missing values.\n",
    "def impute(row):\n",
    "    if pd.isna(row['fuel_unit']) and row['fuel_type_code_pudl'] != 'other':\n",
    "        row['fuel_unit'] = fuel_sources[row['fuel_type_code_pudl']]\n",
    "    return row\n"
   ]
  },
  {
   "cell_type": "markdown",
   "metadata": {},
   "source": [
    "Bbl was used for oil because it was observed to occur most commonly for oil in the dataset."
   ]
  },
  {
   "cell_type": "code",
   "execution_count": 268,
   "metadata": {},
   "outputs": [],
   "source": [
    "utility_data= utility_data.apply(impute, axis=1)"
   ]
  },
  {
   "cell_type": "code",
   "execution_count": 269,
   "metadata": {},
   "outputs": [
    {
     "data": {
      "text/plain": [
       "Unnamed: 0                       0\n",
       "Unnamed: 0.1                     0\n",
       "Unnamed: 0.1.1                   0\n",
       "Unnamed: 0.1.1.1                 0\n",
       "Unnamed: 0.1.1.1.1               0\n",
       "record_id                        0\n",
       "utility_id_ferc1                 0\n",
       "report_year                      0\n",
       "plant_name_ferc1                 0\n",
       "fuel_type_code_pudl              0\n",
       "fuel_unit                       36\n",
       "fuel_qty_burned                  0\n",
       "fuel_mmbtu_per_unit              0\n",
       "fuel_cost_per_unit_burned        0\n",
       "fuel_cost_per_unit_delivered     0\n",
       "fuel_cost_per_mmbtu              0\n",
       "total_fuel_cost_per_unit         0\n",
       "total_cost                       0\n",
       "mmbtu_produced                   0\n",
       "total_fuel_cost_burned           0\n",
       "dtype: int64"
      ]
     },
     "execution_count": 269,
     "metadata": {},
     "output_type": "execute_result"
    }
   ],
   "source": [
    "utility_data.isnull().sum()"
   ]
  },
  {
   "cell_type": "markdown",
   "metadata": {},
   "source": [
    "There are only 36 rows with null values. Because the missing data represents fuel_unit and other dependent columns have already been calculated according to their respective units, this missing values will simply be ignored."
   ]
  },
  {
   "cell_type": "markdown",
   "metadata": {},
   "source": [
    "### Questions.\n",
    "- Which power plant produced the most energy.\n",
    "- How many power plants exist within each fuel sector\n",
    "- Has energy consumption increased over time.\n",
    "- What is the operating costs (total and mean) of individual power plants\n",
    "- How does the fuel costs impact the viability of the different generation sources\n",
    "- Highlight the competitiveness of renewable electricity \n",
    "- How did the generation mix of different utilities evolve overtime."
   ]
  },
  {
   "cell_type": "markdown",
   "metadata": {},
   "source": [
    "Which power plant produced the most energy"
   ]
  },
  {
   "cell_type": "code",
   "execution_count": 348,
   "metadata": {},
   "outputs": [
    {
     "data": {
      "text/html": [
       "<div>\n",
       "<style scoped>\n",
       "    .dataframe tbody tr th:only-of-type {\n",
       "        vertical-align: middle;\n",
       "    }\n",
       "\n",
       "    .dataframe tbody tr th {\n",
       "        vertical-align: top;\n",
       "    }\n",
       "\n",
       "    .dataframe thead th {\n",
       "        text-align: right;\n",
       "    }\n",
       "</style>\n",
       "<table border=\"1\" class=\"dataframe\">\n",
       "  <thead>\n",
       "    <tr style=\"text-align: right;\">\n",
       "      <th></th>\n",
       "      <th>plant_name_ferc1</th>\n",
       "      <th>mmbtu_produced</th>\n",
       "      <th>mean_energy</th>\n",
       "    </tr>\n",
       "  </thead>\n",
       "  <tbody>\n",
       "    <tr>\n",
       "      <th>1027</th>\n",
       "      <td>j. m. stuart - tota</td>\n",
       "      <td>1.284783e+10</td>\n",
       "      <td>1.284783e+10</td>\n",
       "    </tr>\n",
       "    <tr>\n",
       "      <th>1713</th>\n",
       "      <td>river bend</td>\n",
       "      <td>9.862448e+09</td>\n",
       "      <td>4.288021e+08</td>\n",
       "    </tr>\n",
       "    <tr>\n",
       "      <th>1773</th>\n",
       "      <td>rockport total plant</td>\n",
       "      <td>7.621991e+09</td>\n",
       "      <td>9.183122e+07</td>\n",
       "    </tr>\n",
       "    <tr>\n",
       "      <th>2227</th>\n",
       "      <td>white bluff</td>\n",
       "      <td>7.197342e+09</td>\n",
       "      <td>1.755449e+08</td>\n",
       "    </tr>\n",
       "    <tr>\n",
       "      <th>1851</th>\n",
       "      <td>scherer</td>\n",
       "      <td>6.640164e+09</td>\n",
       "      <td>1.070994e+08</td>\n",
       "    </tr>\n",
       "  </tbody>\n",
       "</table>\n",
       "</div>"
      ],
      "text/plain": [
       "          plant_name_ferc1  mmbtu_produced   mean_energy\n",
       "1027   j. m. stuart - tota    1.284783e+10  1.284783e+10\n",
       "1713            river bend    9.862448e+09  4.288021e+08\n",
       "1773  rockport total plant    7.621991e+09  9.183122e+07\n",
       "2227           white bluff    7.197342e+09  1.755449e+08\n",
       "1851               scherer    6.640164e+09  1.070994e+08"
      ]
     },
     "execution_count": 348,
     "metadata": {},
     "output_type": "execute_result"
    }
   ],
   "source": [
    "power_plants_tot_energy = utility_data.groupby('plant_name_ferc1')['mmbtu_produced'].sum()\n",
    "power_plants_mean_energy = utility_data.groupby('plant_name_ferc1')['mmbtu_produced'].mean()\n",
    "power_plants_tot_energy = pd.DataFrame(power_plants_tot_energy)\n",
    "power_plants_tot_energy.reset_index(inplace=True)\n",
    "power_plants_tot_energy['mean_energy'] = list(power_plants_mean_energy)\n",
    "power_plants_tot_energy.sort_values('mmbtu_produced',ascending=False).head()\n"
   ]
  },
  {
   "cell_type": "code",
   "execution_count": 349,
   "metadata": {},
   "outputs": [
    {
     "data": {
      "text/html": [
       "<div>\n",
       "<style scoped>\n",
       "    .dataframe tbody tr th:only-of-type {\n",
       "        vertical-align: middle;\n",
       "    }\n",
       "\n",
       "    .dataframe tbody tr th {\n",
       "        vertical-align: top;\n",
       "    }\n",
       "\n",
       "    .dataframe thead th {\n",
       "        text-align: right;\n",
       "    }\n",
       "</style>\n",
       "<table border=\"1\" class=\"dataframe\">\n",
       "  <thead>\n",
       "    <tr style=\"text-align: right;\">\n",
       "      <th></th>\n",
       "      <th>plant_name_ferc1</th>\n",
       "      <th>mmbtu_produced</th>\n",
       "      <th>mean_energy</th>\n",
       "    </tr>\n",
       "  </thead>\n",
       "  <tbody>\n",
       "    <tr>\n",
       "      <th>1027</th>\n",
       "      <td>j. m. stuart - tota</td>\n",
       "      <td>1.284783e+10</td>\n",
       "      <td>1.284783e+10</td>\n",
       "    </tr>\n",
       "    <tr>\n",
       "      <th>2302</th>\n",
       "      <td>zimmer #1 total</td>\n",
       "      <td>8.444636e+08</td>\n",
       "      <td>8.444636e+08</td>\n",
       "    </tr>\n",
       "    <tr>\n",
       "      <th>165</th>\n",
       "      <td>beaver valley #1</td>\n",
       "      <td>2.642682e+09</td>\n",
       "      <td>6.606705e+08</td>\n",
       "    </tr>\n",
       "    <tr>\n",
       "      <th>19</th>\n",
       "      <td>* white bluff</td>\n",
       "      <td>1.147188e+09</td>\n",
       "      <td>5.735942e+08</td>\n",
       "    </tr>\n",
       "    <tr>\n",
       "      <th>1713</th>\n",
       "      <td>river bend</td>\n",
       "      <td>9.862448e+09</td>\n",
       "      <td>4.288021e+08</td>\n",
       "    </tr>\n",
       "  </tbody>\n",
       "</table>\n",
       "</div>"
      ],
      "text/plain": [
       "         plant_name_ferc1  mmbtu_produced   mean_energy\n",
       "1027  j. m. stuart - tota    1.284783e+10  1.284783e+10\n",
       "2302      zimmer #1 total    8.444636e+08  8.444636e+08\n",
       "165      beaver valley #1    2.642682e+09  6.606705e+08\n",
       "19          * white bluff    1.147188e+09  5.735942e+08\n",
       "1713           river bend    9.862448e+09  4.288021e+08"
      ]
     },
     "execution_count": 349,
     "metadata": {},
     "output_type": "execute_result"
    }
   ],
   "source": [
    "power_plants_tot_energy.sort_values('mean_energy',ascending=False).head()"
   ]
  },
  {
   "cell_type": "markdown",
   "metadata": {},
   "source": [
    "'J.m. Stuart ' was the power plant that generated the most energy over the years in terms of mean energy and total energy."
   ]
  },
  {
   "cell_type": "markdown",
   "metadata": {},
   "source": [
    "How many power plants exist withing each fuel_sector?"
   ]
  },
  {
   "cell_type": "code",
   "execution_count": 339,
   "metadata": {},
   "outputs": [
    {
     "name": "stdout",
     "output_type": "stream",
     "text": [
      "2315\n"
     ]
    }
   ],
   "source": [
    "sec_plant_count = { sector : [] for sector in utility_data['fuel_type_code_pudl'].unique()}\n",
    "collection_of_plants = []\n",
    "def count_plant(row):\n",
    "    plant_name = row['plant_name_ferc1']\n",
    "    fuel = row['fuel_type_code_pudl']\n",
    "    if (plant_name not in sec_plant_count[fuel]) and (plant_name not in collection_of_plants):\n",
    "        sec_plant_count[fuel].append(plant_name)\n",
    "        collection_of_plants.append(plant_name)\n",
    "    \n",
    "utility_data.apply(count_plant,axis=1)\n",
    "#print(sec_plant_count['coal'])\n",
    "n_of_plants = len(utility_data['plant_name_ferc1'].unique())\n",
    "print(n_of_plants)\n",
    "for sector, plants in sec_plant_count.items():\n",
    "    sec_plant_count[sector] = len(plants)/n_of_plants *100"
   ]
  },
  {
   "cell_type": "code",
   "execution_count": 340,
   "metadata": {},
   "outputs": [
    {
     "data": {
      "text/plain": [
       "{'coal': 37.062634989200866,\n",
       " 'gas': 42.33261339092873,\n",
       " 'nuclear': 5.269978401727862,\n",
       " 'oil': 13.347732181425487,\n",
       " 'waste': 0.8207343412526997,\n",
       " 'other': 1.1663066954643628}"
      ]
     },
     "execution_count": 340,
     "metadata": {},
     "output_type": "execute_result"
    }
   ],
   "source": [
    "sec_plant_count"
   ]
  },
  {
   "cell_type": "markdown",
   "metadata": {},
   "source": [
    "We see that 42.3% of the power plants in the dataset are gas plants, 37% are coal plants, 13.3% are oil plants,  5.2% are nuclear plants, 0.8% are waste plants while 1.2% belong to other sources."
   ]
  },
  {
   "cell_type": "markdown",
   "metadata": {},
   "source": [
    "What is the operating cost of individual power plants? \n",
    "\n",
    "The operating cost is calculated by adding the cost of burned to the cost of unit delivered. using the 'total cost' feature will lead to the use of plant expenditure.\n",
    "\n",
    "Another standard used to determine operating cost( from personal research) is the cost_per_mmbtu. It refers to the cost of producing 1 unit of energy.\n",
    "Lets calculate the average for the two for each of the power plants."
   ]
  },
  {
   "cell_type": "code",
   "execution_count": 277,
   "metadata": {},
   "outputs": [],
   "source": [
    "power_plants = utility_data.groupby('plant_name_ferc1')\n",
    "power_plants_total_cost = power_plants['total_fuel_cost_per_unit'].sum()\n",
    "power_plants_mean_cost = power_plants['total_fuel_cost_per_unit'].mean()\n",
    "power_plants_cost_per_mmbtu = power_plants['fuel_cost_per_mmbtu'].mean()\n",
    "#power_plants_total_cost.sort_values(ascending= False,inplace=True)\n",
    "#power_plants_mean_cost.sort_values(ascending= False, inplace=True)"
   ]
  },
  {
   "cell_type": "markdown",
   "metadata": {},
   "source": [
    "These values represent the mean cost of operation over the course of 25 years. I could choose to calculate this costs for each year as there will be some variability in the operating costs of each plant. However, the mean_cost gives the average cost of running these plant over the years.\n",
    "\n",
    "Using the total cost for each plant will turn out to be biased because some plants have existed for a long time while some were developed only recently and so it may not give a true picture of the operating costs.\n",
    "\n",
    "Also, what type of fuel was used by the top 10 plants on this list?"
   ]
  },
  {
   "cell_type": "code",
   "execution_count": 271,
   "metadata": {},
   "outputs": [],
   "source": [
    "plant_fuel_type = {plant_name : [] for plant_name in utility_data['plant_name_ferc1']}"
   ]
  },
  {
   "cell_type": "code",
   "execution_count": 272,
   "metadata": {},
   "outputs": [
    {
     "data": {
      "text/plain": [
       "0        None\n",
       "1        None\n",
       "2        None\n",
       "3        None\n",
       "4        None\n",
       "         ... \n",
       "29518    None\n",
       "29519    None\n",
       "29520    None\n",
       "29521    None\n",
       "29522    None\n",
       "Length: 29523, dtype: object"
      ]
     },
     "execution_count": 272,
     "metadata": {},
     "output_type": "execute_result"
    }
   ],
   "source": [
    "#pair the power plant to its fuel_type\n",
    "\n",
    "def get_fuel_type(row):\n",
    "    plant_name = row['plant_name_ferc1']\n",
    "    fuel_type = row['fuel_type_code_pudl']        \n",
    "    if fuel_type not in plant_fuel_type[plant_name]:\n",
    "        plant_fuel_type[plant_name].append(fuel_type)\n",
    "        \n",
    "utility_data.apply(get_fuel_type, axis=1)"
   ]
  },
  {
   "cell_type": "code",
   "execution_count": 278,
   "metadata": {},
   "outputs": [],
   "source": [
    "power_plants_mean_cost = pd.DataFrame(power_plants_mean_cost)\n",
    "power_plants_mean_cost.reset_index(inplace=True)"
   ]
  },
  {
   "cell_type": "code",
   "execution_count": 281,
   "metadata": {},
   "outputs": [
    {
     "data": {
      "text/html": [
       "<div>\n",
       "<style scoped>\n",
       "    .dataframe tbody tr th:only-of-type {\n",
       "        vertical-align: middle;\n",
       "    }\n",
       "\n",
       "    .dataframe tbody tr th {\n",
       "        vertical-align: top;\n",
       "    }\n",
       "\n",
       "    .dataframe thead th {\n",
       "        text-align: right;\n",
       "    }\n",
       "</style>\n",
       "<table border=\"1\" class=\"dataframe\">\n",
       "  <thead>\n",
       "    <tr style=\"text-align: right;\">\n",
       "      <th></th>\n",
       "      <th>plant_name_ferc1</th>\n",
       "      <th>total_fuel_cost_per_unit</th>\n",
       "      <th>cost_per_mmbtu</th>\n",
       "    </tr>\n",
       "  </thead>\n",
       "  <tbody>\n",
       "    <tr>\n",
       "      <th>0</th>\n",
       "      <td>(1)sta98</td>\n",
       "      <td>7.000</td>\n",
       "      <td>3.399</td>\n",
       "    </tr>\n",
       "    <tr>\n",
       "      <th>1</th>\n",
       "      <td>(2) scriba sta. 99</td>\n",
       "      <td>61.064</td>\n",
       "      <td>0.499</td>\n",
       "    </tr>\n",
       "    <tr>\n",
       "      <th>2</th>\n",
       "      <td>(n) contra costa</td>\n",
       "      <td>2.180</td>\n",
       "      <td>2.110</td>\n",
       "    </tr>\n",
       "    <tr>\n",
       "      <th>3</th>\n",
       "      <td>(n) pittsburg</td>\n",
       "      <td>2.250</td>\n",
       "      <td>2.180</td>\n",
       "    </tr>\n",
       "    <tr>\n",
       "      <th>4</th>\n",
       "      <td>(n)(t)moss landing</td>\n",
       "      <td>2.260</td>\n",
       "      <td>2.220</td>\n",
       "    </tr>\n",
       "  </tbody>\n",
       "</table>\n",
       "</div>"
      ],
      "text/plain": [
       "     plant_name_ferc1  total_fuel_cost_per_unit  cost_per_mmbtu\n",
       "0            (1)sta98                     7.000           3.399\n",
       "1  (2) scriba sta. 99                    61.064           0.499\n",
       "2    (n) contra costa                     2.180           2.110\n",
       "3       (n) pittsburg                     2.250           2.180\n",
       "4  (n)(t)moss landing                     2.260           2.220"
      ]
     },
     "execution_count": 281,
     "metadata": {},
     "output_type": "execute_result"
    }
   ],
   "source": [
    "power_plants_mean_cost['cost_per_mmbtu'] = list(power_plants_cost_per_mmbtu)\n",
    "#power_plants_mean_cost.head()"
   ]
  },
  {
   "cell_type": "code",
   "execution_count": 282,
   "metadata": {},
   "outputs": [],
   "source": [
    "\n",
    "fuel_type = power_plants_mean_cost.apply((lambda x: plant_fuel_type[x['plant_name_ferc1']]), axis=1)\n",
    "power_plants_mean_cost['fuel_type_code_pudl'] = fuel_type\n"
   ]
  },
  {
   "cell_type": "code",
   "execution_count": 289,
   "metadata": {},
   "outputs": [
    {
     "data": {
      "text/html": [
       "<div>\n",
       "<style scoped>\n",
       "    .dataframe tbody tr th:only-of-type {\n",
       "        vertical-align: middle;\n",
       "    }\n",
       "\n",
       "    .dataframe tbody tr th {\n",
       "        vertical-align: top;\n",
       "    }\n",
       "\n",
       "    .dataframe thead th {\n",
       "        text-align: right;\n",
       "    }\n",
       "</style>\n",
       "<table border=\"1\" class=\"dataframe\">\n",
       "  <thead>\n",
       "    <tr style=\"text-align: right;\">\n",
       "      <th></th>\n",
       "      <th>plant_name_ferc1</th>\n",
       "      <th>total_fuel_cost_per_unit</th>\n",
       "      <th>cost_per_mmbtu</th>\n",
       "      <th>fuel_type_code_pudl</th>\n",
       "    </tr>\n",
       "  </thead>\n",
       "  <tbody>\n",
       "    <tr>\n",
       "      <th>1538</th>\n",
       "      <td>peach bt 2&amp;3</td>\n",
       "      <td>3.166970e+06</td>\n",
       "      <td>2.814400</td>\n",
       "      <td>[oil, nuclear]</td>\n",
       "    </tr>\n",
       "    <tr>\n",
       "      <th>961</th>\n",
       "      <td>hope creek 1</td>\n",
       "      <td>1.352534e+06</td>\n",
       "      <td>0.251667</td>\n",
       "      <td>[nuclear]</td>\n",
       "    </tr>\n",
       "    <tr>\n",
       "      <th>1828</th>\n",
       "      <td>salem 1&amp;2</td>\n",
       "      <td>1.127903e+06</td>\n",
       "      <td>0.673000</td>\n",
       "      <td>[nuclear]</td>\n",
       "    </tr>\n",
       "    <tr>\n",
       "      <th>1518</th>\n",
       "      <td>palo verde (1)</td>\n",
       "      <td>9.630174e+04</td>\n",
       "      <td>0.572864</td>\n",
       "      <td>[nuclear]</td>\n",
       "    </tr>\n",
       "    <tr>\n",
       "      <th>1521</th>\n",
       "      <td>palo verde 2</td>\n",
       "      <td>5.661615e+04</td>\n",
       "      <td>0.816417</td>\n",
       "      <td>[nuclear]</td>\n",
       "    </tr>\n",
       "    <tr>\n",
       "      <th>1519</th>\n",
       "      <td>palo verde 1</td>\n",
       "      <td>5.318807e+04</td>\n",
       "      <td>0.769333</td>\n",
       "      <td>[nuclear]</td>\n",
       "    </tr>\n",
       "    <tr>\n",
       "      <th>2304</th>\n",
       "      <td>zimmer - csp share</td>\n",
       "      <td>5.227280e+04</td>\n",
       "      <td>7.932214</td>\n",
       "      <td>[coal, oil]</td>\n",
       "    </tr>\n",
       "    <tr>\n",
       "      <th>1522</th>\n",
       "      <td>palo verde 3</td>\n",
       "      <td>5.176900e+04</td>\n",
       "      <td>0.764917</td>\n",
       "      <td>[nuclear]</td>\n",
       "    </tr>\n",
       "    <tr>\n",
       "      <th>174</th>\n",
       "      <td>beckjord 6 csp shr</td>\n",
       "      <td>4.515809e+04</td>\n",
       "      <td>2.104167</td>\n",
       "      <td>[coal, oil]</td>\n",
       "    </tr>\n",
       "    <tr>\n",
       "      <th>1561</th>\n",
       "      <td>pilgrim</td>\n",
       "      <td>3.866124e+04</td>\n",
       "      <td>0.465000</td>\n",
       "      <td>[nuclear]</td>\n",
       "    </tr>\n",
       "  </tbody>\n",
       "</table>\n",
       "</div>"
      ],
      "text/plain": [
       "        plant_name_ferc1  total_fuel_cost_per_unit  cost_per_mmbtu  \\\n",
       "1538        peach bt 2&3              3.166970e+06        2.814400   \n",
       "961         hope creek 1              1.352534e+06        0.251667   \n",
       "1828           salem 1&2              1.127903e+06        0.673000   \n",
       "1518      palo verde (1)              9.630174e+04        0.572864   \n",
       "1521        palo verde 2              5.661615e+04        0.816417   \n",
       "1519        palo verde 1              5.318807e+04        0.769333   \n",
       "2304  zimmer - csp share              5.227280e+04        7.932214   \n",
       "1522        palo verde 3              5.176900e+04        0.764917   \n",
       "174   beckjord 6 csp shr              4.515809e+04        2.104167   \n",
       "1561             pilgrim              3.866124e+04        0.465000   \n",
       "\n",
       "     fuel_type_code_pudl  \n",
       "1538      [oil, nuclear]  \n",
       "961            [nuclear]  \n",
       "1828           [nuclear]  \n",
       "1518           [nuclear]  \n",
       "1521           [nuclear]  \n",
       "1519           [nuclear]  \n",
       "2304         [coal, oil]  \n",
       "1522           [nuclear]  \n",
       "174          [coal, oil]  \n",
       "1561           [nuclear]  "
      ]
     },
     "execution_count": 289,
     "metadata": {},
     "output_type": "execute_result"
    }
   ],
   "source": [
    "power_plants_mean_cost.sort_values('total_fuel_cost_per_unit',ascending=False,inplace=True)\n",
    "power_plants_mean_cost.head(10)"
   ]
  },
  {
   "cell_type": "code",
   "execution_count": 313,
   "metadata": {},
   "outputs": [
    {
     "data": {
      "text/html": [
       "<div>\n",
       "<style scoped>\n",
       "    .dataframe tbody tr th:only-of-type {\n",
       "        vertical-align: middle;\n",
       "    }\n",
       "\n",
       "    .dataframe tbody tr th {\n",
       "        vertical-align: top;\n",
       "    }\n",
       "\n",
       "    .dataframe thead th {\n",
       "        text-align: right;\n",
       "    }\n",
       "</style>\n",
       "<table border=\"1\" class=\"dataframe\">\n",
       "  <thead>\n",
       "    <tr style=\"text-align: right;\">\n",
       "      <th></th>\n",
       "      <th>plant_name_ferc1</th>\n",
       "      <th>total_fuel_cost_per_unit</th>\n",
       "      <th>cost_per_mmbtu</th>\n",
       "      <th>fuel_type_code_pudl</th>\n",
       "    </tr>\n",
       "  </thead>\n",
       "  <tbody>\n",
       "    <tr>\n",
       "      <th>1791</th>\n",
       "      <td>rothschild</td>\n",
       "      <td>39.482000</td>\n",
       "      <td>51474.193134</td>\n",
       "      <td>[waste, gas]</td>\n",
       "    </tr>\n",
       "    <tr>\n",
       "      <th>341</th>\n",
       "      <td>celanese ii</td>\n",
       "      <td>4.976429</td>\n",
       "      <td>1807.533643</td>\n",
       "      <td>[other]</td>\n",
       "    </tr>\n",
       "    <tr>\n",
       "      <th>1792</th>\n",
       "      <td>rothschild-total</td>\n",
       "      <td>31.363500</td>\n",
       "      <td>139.417935</td>\n",
       "      <td>[waste, gas]</td>\n",
       "    </tr>\n",
       "    <tr>\n",
       "      <th>1537</th>\n",
       "      <td>peach bottom (nuc)</td>\n",
       "      <td>33.735333</td>\n",
       "      <td>54.680333</td>\n",
       "      <td>[nuclear]</td>\n",
       "    </tr>\n",
       "    <tr>\n",
       "      <th>1435</th>\n",
       "      <td>nine mile 1</td>\n",
       "      <td>20907.958667</td>\n",
       "      <td>54.266667</td>\n",
       "      <td>[nuclear]</td>\n",
       "    </tr>\n",
       "    <tr>\n",
       "      <th>960</th>\n",
       "      <td>hope creek (nuc)</td>\n",
       "      <td>36.206000</td>\n",
       "      <td>51.821000</td>\n",
       "      <td>[nuclear]</td>\n",
       "    </tr>\n",
       "    <tr>\n",
       "      <th>1436</th>\n",
       "      <td>nine mile 2</td>\n",
       "      <td>19516.277000</td>\n",
       "      <td>47.900000</td>\n",
       "      <td>[nuclear]</td>\n",
       "    </tr>\n",
       "    <tr>\n",
       "      <th>611</th>\n",
       "      <td>e.f. barrett</td>\n",
       "      <td>60.567000</td>\n",
       "      <td>26.062000</td>\n",
       "      <td>[oil]</td>\n",
       "    </tr>\n",
       "    <tr>\n",
       "      <th>62</th>\n",
       "      <td>aberdeen ct</td>\n",
       "      <td>294.750000</td>\n",
       "      <td>25.706000</td>\n",
       "      <td>[oil]</td>\n",
       "    </tr>\n",
       "    <tr>\n",
       "      <th>155</th>\n",
       "      <td>bayboro ct</td>\n",
       "      <td>272.987000</td>\n",
       "      <td>25.044000</td>\n",
       "      <td>[oil]</td>\n",
       "    </tr>\n",
       "  </tbody>\n",
       "</table>\n",
       "</div>"
      ],
      "text/plain": [
       "        plant_name_ferc1  total_fuel_cost_per_unit  cost_per_mmbtu  \\\n",
       "1791          rothschild                 39.482000    51474.193134   \n",
       "341          celanese ii                  4.976429     1807.533643   \n",
       "1792    rothschild-total                 31.363500      139.417935   \n",
       "1537  peach bottom (nuc)                 33.735333       54.680333   \n",
       "1435         nine mile 1              20907.958667       54.266667   \n",
       "960     hope creek (nuc)                 36.206000       51.821000   \n",
       "1436         nine mile 2              19516.277000       47.900000   \n",
       "611         e.f. barrett                 60.567000       26.062000   \n",
       "62           aberdeen ct                294.750000       25.706000   \n",
       "155           bayboro ct                272.987000       25.044000   \n",
       "\n",
       "     fuel_type_code_pudl  \n",
       "1791        [waste, gas]  \n",
       "341              [other]  \n",
       "1792        [waste, gas]  \n",
       "1537           [nuclear]  \n",
       "1435           [nuclear]  \n",
       "960            [nuclear]  \n",
       "1436           [nuclear]  \n",
       "611                [oil]  \n",
       "62                 [oil]  \n",
       "155                [oil]  "
      ]
     },
     "execution_count": 313,
     "metadata": {},
     "output_type": "execute_result"
    }
   ],
   "source": [
    "power_plants_mean_cost.sort_values('cost_per_mmbtu',ascending=False).head(10)"
   ]
  },
  {
   "cell_type": "markdown",
   "metadata": {},
   "source": [
    "We can see that the first 6 plants use nuclear energy. In the top ten, there are eight nuclear plants while the only two use coal and oil. This is a well known fact. We see mostly nuclear plants in the last 20 (also with their respective cost_per_mmbtu) possibly because the fuel cost for these plants werent recorded properly.\n",
    "The nuclear plants are also noticed to have quite low average fuel_cost_per_mmbtu.\n",
    "\n",
    "using the cost_per_mmbtu , the first 3 plants seem to fall under renewable sources. This is probably due to an abrupt and significant spike in cost in the final years ( waste). We also see that the next 4 are nuclear plants and the last 3 fall under the oil sector."
   ]
  },
  {
   "cell_type": "markdown",
   "metadata": {},
   "source": [
    "Now, how does the fuel cost affect the viability of different generation sources?\n",
    "The viability of the different power sources will be measured by its output: amount fuel burned in total, total energy produced. The fuel cost per mmbtu should be a good index for predicting viability of  a power plant. \n",
    "\n",
    "we would expect it to be lower for more viable power plants as such plants will spend less to generate more energy and so should perform more efficiently and also continue production of energy and function for longer periods of time. \n",
    "\n",
    "Hence, we should expect that an increasing fuel cost and cost_per_mmbtu should generally cause a decreasing viability (measured by parameters stated above).\n",
    "\n",
    "Let's plot the fuel quantity burned and energy produced against the fuel cost per unit and avg_cost_per_mmbtu for the different generation sources each year. we will use the top 5 and bottom 5 plants with the most and least mean_cost over the years. we will use the averages instead of the total for easy computation."
   ]
  },
  {
   "cell_type": "code",
   "execution_count": 305,
   "metadata": {},
   "outputs": [],
   "source": [
    "fuel_type = list(fuel_sources.keys())\n",
    "fuel_type.append('other')\n",
    "energy_produced = {}\n",
    "fuel_cost = {}\n",
    "fuel_qty = {}\n",
    "avg_cost_per_mmbtu = {}\n",
    "\n",
    "for fuel in fuel_type:\n",
    "    fuel_data = utility_data[utility_data['fuel_type_code_pudl'] == fuel]\n",
    "    groupby_year = fuel_data.groupby('report_year')\n",
    "    energy_produced[fuel] = groupby_year['mmbtu_produced'].sum()\n",
    "    fuel_cost[fuel] = groupby_year['total_fuel_cost_per_unit'].mean()\n",
    "    avg_cost_per_mmbtu[fuel] = groupby_year['fuel_cost_per_mmbtu'].mean()\n",
    "\n",
    "    #fuel_qty[fuel] = groupby_year['fuel_qty_burned'].sum()"
   ]
  },
  {
   "cell_type": "code",
   "execution_count": 333,
   "metadata": {
    "scrolled": true
   },
   "outputs": [
    {
     "data": {
      "application/vnd.jupyter.widget-view+json": {
       "model_id": "4d00963544d84de7a733cd3a06788bdb",
       "version_major": 2,
       "version_minor": 0
      },
      "text/plain": [
       "interactive(children=(Dropdown(description='category', options=('Energy produced', 'Fuel qty used'), value='En…"
      ]
     },
     "metadata": {},
     "output_type": "display_data"
    }
   ],
   "source": [
    "from numpy import corrcoef as corr\n",
    "\n",
    "#Map categories to appropriate data\n",
    "plot_map = {'Energy produced': energy_produced, 'Fuel qty used': fuel_qty}\n",
    "\n",
    "# define functions to plot the various categories,fuel_types\n",
    "def plotter(first, second,first_name,second_name,column):\n",
    "    print(f'Correlation between {first_name} and {second_name} :-  ',corr(first[column],second[column])[0][1] ) \n",
    "    fig, axes = plt.subplots(2,1,figsize=(10,6))\n",
    "    axes[0].plot(first[column].index, first[column], color='green')\n",
    "    axes[1].plot(second[column].index, second[column], color='red')\n",
    "    axes[0].set_xlabel('Report_year')\n",
    "    axes[0].set_ylabel(first_name)\n",
    "    axes[0].grid(True)\n",
    "    axes[1].grid(True)\n",
    "    axes[1].set_xlabel('Report_year')\n",
    "    axes[1].set_ylabel(second_name)\n",
    "    axes[0].set_title(f'{first_name} burned in the {column} sector over the years')\n",
    "    axes[1].set_title(f'{second_name} for the {column} sector over the years')\n",
    "    plt.tight_layout()\n",
    "\n",
    "@interact\n",
    "def plot_energy_and_qty(category=['Energy produced','Fuel qty used'], column=fuel_type, column2= ['fuel_cost','cost_per_mmbtu']):\n",
    "    print(category)\n",
    "    cat = plot_map[category]\n",
    "    if column2== 'fuel_cost':\n",
    "        plotter(cat,fuel_cost,category, column2,column)\n",
    "    else:\n",
    "        plotter(cat,avg_cost_per_mmbtu, category, column2,column)"
   ]
  },
  {
   "cell_type": "markdown",
   "metadata": {},
   "source": [
    "The energy produced by coal,nuclear, waste weren't sensitive to the avg total fuel cost per unit. However, the gas sector was the most sensistive to the total fuel cost per unit. In the final years, the oil sector appeared to be moderately sensitive to the total fuel cost per unit.\n",
    "\n",
    "From the above plot in general,we see that the energy production of the various sectors weren't sensitive to the direct average total fuel cost per unit (using the correlation). However, they were mostly sensitive to avg cost per mmbtu (operating cost) rising significantly with the fall in avg. cost per mmbtu and falling significantly with the rise in avg. cost per mmbtu.\n",
    "Hence, the various generation sources were sensitive to the average operating cost (cost per mmbtu)."
   ]
  },
  {
   "cell_type": "markdown",
   "metadata": {},
   "source": [
    "Now, has the total energy production increased over the years due to demand by advancement in technology?"
   ]
  },
  {
   "cell_type": "code",
   "execution_count": 334,
   "metadata": {},
   "outputs": [
    {
     "data": {
      "image/png": "[encoded data removed]",
      "text/plain": [
       "<Figure size 720x360 with 1 Axes>"
      ]
     },
     "metadata": {
      "needs_background": "light"
     },
     "output_type": "display_data"
    }
   ],
   "source": [
    "plt.figure(figsize=(10,5))\n",
    "group_energy_by_year  = utility_data.groupby('report_year')['mmbtu_produced'].sum()\n",
    "group_energy_by_year.plot(title='Energy generated over the years')\n",
    "plt.grid(True)\n",
    "#plt.title('Energy generated over the years')\n"
   ]
  },
  {
   "cell_type": "markdown",
   "metadata": {},
   "source": [
    "There has been a gradual but significant decline in the amount of energy produced over the years. What is responsible for this? Let's plot a graph showing the various contributions of energy by the different fuel sources."
   ]
  },
  {
   "cell_type": "code",
   "execution_count": 335,
   "metadata": {},
   "outputs": [
    {
     "data": {
      "image/png": "[encoded data removed]",
      "text/plain": [
       "<Figure size 1008x432 with 1 Axes>"
      ]
     },
     "metadata": {
      "needs_background": "light"
     },
     "output_type": "display_data"
    }
   ],
   "source": [
    "years = list(utility_data['report_year'].unique())\n",
    "colors= {'oil': 'black', 'gas':'yellow','waste':'brown','nuclear':'green','other': 'red','coal':'purple'}\n",
    "\n",
    "plt.figure(figsize=(14,6))\n",
    "for fuel in fuel_type:\n",
    "    #print(fuel_type)\n",
    "    plt.plot(energy_produced[fuel].index, energy_produced[fuel], color= colors[fuel],label=fuel)\n",
    "plt.plot(group_energy_by_year.index, group_energy_by_year,color= 'blue', label='total_energy')\n",
    "plt.xlabel('Report_year')\n",
    "plt.ylabel('Energy_produced')\n",
    "plt.grid(True)\n",
    "plt.title('Total energy produced over the years')\n",
    "plt.legend()\n",
    "plt.show()"
   ]
  },
  {
   "cell_type": "markdown",
   "metadata": {},
   "source": [
    "From the plot above we can see that the line for total energy produced closely follows the shape of the 'coal' line while other energy sources remained fairly the same or experienced a very small growth in energy production. Hence, Coal was majorly responsible for the decline in the energy produced.\n",
    "\n",
    "What caused this decline in the amount of energy produced by coal? was it due to cost? depletion in coal resources? or was the initial productionn of energy by coal inefficient and hence underutilized by citizens leading to the decline in production? or has the demand for energy declined?\n",
    "\n",
    "We can see from our earlier plot, that though coal remains the number one source of energy generation, the energy produced by coal was very sensitive to the avg_cost_per_mmbtu which refers to the cost of producint 1 cost of energy. This cost has significantly increased over the years.\n",
    "Hence, it surely is a major factor in the energy depletion."
   ]
  },
  {
   "cell_type": "code",
   "execution_count": 310,
   "metadata": {},
   "outputs": [
    {
     "data": {
      "image/png": "[encoded data removed]",
      "text/plain": [
       "<Figure size 720x432 with 1 Axes>"
      ]
     },
     "metadata": {
      "needs_background": "light"
     },
     "output_type": "display_data"
    }
   ],
   "source": [
    "plt.figure(figsize=(10,6))\n",
    "plt.plot(avg_cost_per_mmbtu['coal'],energy_produced['coal'], color= 'orange')\n",
    "plt.xlabel('avg_cost_per_mbtu')\n",
    "plt.ylabel('energy_produced')\n",
    "plt.grid(True)\n",
    "plt.title('Energy produced by the coal sector against avg_cost_per_mmbtu')\n",
    "plt.show()"
   ]
  },
  {
   "cell_type": "markdown",
   "metadata": {},
   "source": [
    "we see that as the cost initially decreased the energy produced peaked then started to drop as the cost increased."
   ]
  },
  {
   "cell_type": "markdown",
   "metadata": {},
   "source": [
    "- Highlight the competitiveness of renewable electricity\n",
    "\n",
    "Renewable sources of energy in this data will be assumed to include waste and 'others' category as 'others' should contain other renewable sources like wind,hydro,solar etc.\n",
    "How have these renewable sources of energy faired in the midst of other fuel types in terms of cost, energy generation and use over the years? \n",
    "Are they gaining power in terms of energy production increase as compared to other fuel_types?\n",
    "If so, apart from the enviromental problems they seek to solve, has the cost significantly increased their use?\n",
    "\n",
    "From the energy plot above :\n",
    "For the waste fuel type we saw an general increase in adoption and hence eenergy production from 2001 despite rising fuel_cost. However, the 'others' source experienced a drop in the energy produced from 2003.\n",
    "Now, lets calculate and plot the percentage energy contributed by the renewble source of energy over the years."
   ]
  },
  {
   "cell_type": "code",
   "execution_count": 144,
   "metadata": {},
   "outputs": [],
   "source": [
    "total_energy_per_year = utility_data.groupby('report_year')['mmbtu_produced'].sum()\n",
    "renewable_plants = utility_data[(utility_data['fuel_type_code_pudl']== 'waste') | (utility_data['fuel_type_code_pudl'] == 'other')]\n",
    "renewable_source = renewable_plants.groupby('report_year')['mmbtu_produced'].sum()\n",
    "waste = renewable_plants[renewable_plants['fuel_type_code_pudl'] == 'waste'].groupby('report_year')['mmbtu_produced'].sum()\n",
    "#print(renewable_source.head()/total_energy_per_year.head())\n",
    "\n",
    "\n",
    "renewable_source = renewable_source/total_energy_per_year * 100\n",
    "waste = waste/total_energy_per_year * 100"
   ]
  },
  {
   "cell_type": "code",
   "execution_count": 338,
   "metadata": {
    "scrolled": true
   },
   "outputs": [
    {
     "data": {
      "text/plain": [
       "Text(0, 0.5, 'Enery production percentage by renewable fuel')"
      ]
     },
     "execution_count": 338,
     "metadata": {},
     "output_type": "execute_result"
    },
    {
     "data": {
      "image/png": "[encoded data removed]",
      "text/plain": [
       "<Figure size 1008x360 with 1 Axes>"
      ]
     },
     "metadata": {
      "needs_background": "light"
     },
     "output_type": "display_data"
    }
   ],
   "source": [
    "#plot percentage energy generation for the renewable source sector\n",
    "renewable_source.plot(kind='bar',figsize=(14,5), title='Energy production percentage for renewable sources of energy')\n",
    "plt.xlabel('Report year')\n",
    "plt.ylabel('Enery production percentage by renewable fuel')\n"
   ]
  },
  {
   "cell_type": "code",
   "execution_count": 146,
   "metadata": {},
   "outputs": [
    {
     "data": {
      "text/plain": [
       "Text(0.5, 1.0, 'Energy production percentage for waste fuel')"
      ]
     },
     "execution_count": 146,
     "metadata": {},
     "output_type": "execute_result"
    },
    {
     "data": {
      "image/png": "[encoded data removed]",
      "text/plain": [
       "<Figure size 1008x360 with 1 Axes>"
      ]
     },
     "metadata": {
      "needs_background": "light"
     },
     "output_type": "display_data"
    }
   ],
   "source": [
    "#plot percentage energy generation by the waste sector\n",
    "waste.plot(kind='bar',figsize=(14,5),color='green')\n",
    "plt.xlabel('Report year')\n",
    "plt.ylabel('Enery production percentage waste fuel')\n",
    "plt.title('Energy production percentage for waste fuel')"
   ]
  },
  {
   "cell_type": "markdown",
   "metadata": {},
   "source": [
    "We see that basically no energy was generated before 2002 for wastes though little energy was being generated from other renewable sources. We also see that though the percentage energy production for renewable soures of energy has been on the rise , it still accounts for a very small percentage (< 0.05%) of the energy production by the whole power sector. This highlights that the renewable sector offers a very insignificant competition and still remains grossly under-utilized and has mostly been that way.\n",
    "\n",
    "Now, let's make a dynamic bar chart for the energy production (representing each source) over the years."
   ]
  },
  {
   "cell_type": "code",
   "execution_count": 183,
   "metadata": {},
   "outputs": [],
   "source": [
    "fuel_types = list(fuel_sources.keys())\n",
    "fuel_types.append('other')\n",
    "fuel_type_perc_production = {}\n",
    "fuel_type_perc_production['waste'] = list(waste)\n",
    "for fuel_type in fuel_types:\n",
    "    if fuel_type != 'waste':\n",
    "        fuel_type_perc_production[fuel_type] = list(utility_data[utility_data['fuel_type_code_pudl'] == fuel_type].groupby('report_year')['mmbtu_produced'].sum()/total_energy_per_year * 100)     "
   ]
  },
  {
   "cell_type": "code",
   "execution_count": 228,
   "metadata": {},
   "outputs": [],
   "source": [
    "#lets map index to a specific year:\n",
    "year_to_index = { year : years.index(year) for year in years}\n",
    "x_index = range(0, len(fuel_type_perc_production.keys()))\n",
    "\n",
    "#Function to plot a bar chart to represent values over the years.\n",
    "def energy_percentage(year):\n",
    "    index= year_to_index[year]\n",
    "    tick_label=[]\n",
    "    y_value = []\n",
    "    for fuel_type, value in fuel_type_perc_production.items():\n",
    "        tick_label.append(fuel_type)\n",
    "        y_value.append(value[index])\n",
    "    plt.figure(figsize=(10,5))   \n",
    "    plt.bar(x_index, y_value, tick_label=tick_label, color=colors.values())\n",
    "    plt.xlabel('Fuel_sources')\n",
    "    plt.ylabel('Energy production perc (%)')\n",
    "    plt.grid(True)\n",
    "    plt.title('Energy contribution by the different power sector')\n",
    "    "
   ]
  },
  {
   "cell_type": "code",
   "execution_count": 229,
   "metadata": {},
   "outputs": [
    {
     "data": {
      "application/vnd.jupyter.widget-view+json": {
       "model_id": "bd5569afe8a04399a56103cee746fc9b",
       "version_major": 2,
       "version_minor": 0
      },
      "text/plain": [
       "interactive(children=(IntSlider(value=2006, description='year', max=2018, min=1994), Output()), _dom_classes=(…"
      ]
     },
     "metadata": {},
     "output_type": "display_data"
    },
    {
     "data": {
      "text/plain": [
       "<function __main__.energy_percentage(year)>"
      ]
     },
     "execution_count": 229,
     "metadata": {},
     "output_type": "execute_result"
    }
   ],
   "source": [
    "interact(energy_percentage, year=(1994,2018,1))"
   ]
  },
  {
   "cell_type": "markdown",
   "metadata": {},
   "source": [
    "From the dynamic bar chart above, we can see the various contribution by the different energy sources. The contribution of the renewable sources of energy are not visible at all in the graph highlighting their insignificant contribution. Even in 2018, coal still accounts for about 60% of the energy production in america, gas accounts for about 33% of production, nuclear accounts for about 7% of production.\n",
    "\n",
    "\n",
    "Now, lets make a pie chart."
   ]
  },
  {
   "cell_type": "code",
   "execution_count": 320,
   "metadata": {},
   "outputs": [
    {
     "data": {
      "application/vnd.jupyter.widget-view+json": {
       "model_id": "71d954f65d934596b673cace695ea458",
       "version_major": 2,
       "version_minor": 0
      },
      "text/plain": [
       "interactive(children=(IntSlider(value=2006, description='year', max=2018, min=1994), Output()), _dom_classes=(…"
      ]
     },
     "metadata": {},
     "output_type": "display_data"
    },
    {
     "data": {
      "text/plain": [
       "<function __main__.create_pie_chart(year)>"
      ]
     },
     "execution_count": 320,
     "metadata": {},
     "output_type": "execute_result"
    }
   ],
   "source": [
    "#plot a pie chart.\n",
    "def create_pie_chart(year):\n",
    "    index= year_to_index[year]\n",
    "    label=[]\n",
    "    values = []\n",
    "    for fuel_type, value in fuel_type_perc_production.items():\n",
    "        label.append(fuel_type)\n",
    "        values.append(value[index])\n",
    "    labels = ['Javascript','HTML/CSS','SQL','Python','Java']\n",
    "    plt.pie(values, labels=label ,wedgeprops={'edgecolor': 'blue'},radius = 2, rotatelabels= True,shadow=True,autopct='%1.1f%%',startangle=90)\n",
    "    plt.show()\n",
    "    \n",
    "interact(create_pie_chart, year = (1994,2018,1))"
   ]
  },
  {
   "cell_type": "markdown",
   "metadata": {},
   "source": [
    "We can see that the renewable source indeed accounts for a very small percentage throughout the years."
   ]
  },
  {
   "cell_type": "markdown",
   "metadata": {},
   "source": [
    "#   Data Summary\n",
    "- The composition of power plants making for the total energy production belonged mainly to the coal, gas and oil sector.\n",
    "- The top ten plants with the highest operating cost (using avg. cost per mmbtu) belonged to the renewable sources ,nuclear and oil in that order. It was reasoned that the renewable sources made the top of the list because there was a very significant,abrupt increase in cost from a very minimal level hence, increasing the average.\n",
    "- The operating cost (avg cost per mmbtu) had a significant effect (inverse relationship) on the energy production by the various sectors.\n",
    "- The total energy production has significantly declined over the years due mainly to a significant decline in energy production by the coal sector probably caused by a significant increase in average operating cost for coal plants.\n",
    "- Coal accounted for the most of the energy production, followed by gas and oil. Renewable sources generated the least energy despite the overall low operating cost thought amount of energy produced by them has increased gradually over the years.\n",
    "- Coal has always been the number one source of energy generation in america since 1994. Recent years saw an increase in the energy generated mainly by the gas and nuclear sectors while oil output has declined over the years."
   ]
  }
 ],
 "metadata": {
  "kernelspec": {
   "display_name": "Python 3",
   "language": "python",
   "name": "python3"
  },
  "language_info": {
   "codemirror_mode": {
    "name": "ipython",
    "version": 3
   },
   "file_extension": ".py",
   "mimetype": "text/x-python",
   "name": "python",
   "nbconvert_exporter": "python",
   "pygments_lexer": "ipython3",
   "version": "3.7.6"
  }
 },
 "nbformat": 4,
 "nbformat_minor": 4
}
